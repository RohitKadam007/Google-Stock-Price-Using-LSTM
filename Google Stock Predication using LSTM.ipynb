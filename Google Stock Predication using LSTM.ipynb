{
 "cells": [
  {
   "cell_type": "markdown",
   "id": "817d55ad",
   "metadata": {},
   "source": [
    "# Read Data"
   ]
  },
  {
   "cell_type": "code",
   "execution_count": 1,
   "id": "15dee2cf",
   "metadata": {},
   "outputs": [],
   "source": [
    "from warnings import filterwarnings\n",
    "filterwarnings(\"ignore\")\n",
    "import pandas as pd\n",
    "A = pd.read_csv(\"C:Documents/Google_Stock_Price_Train.csv\")"
   ]
  },
  {
   "cell_type": "code",
   "execution_count": 2,
   "id": "2a0a6a0a",
   "metadata": {},
   "outputs": [
    {
     "data": {
      "text/html": [
       "<div>\n",
       "<style scoped>\n",
       "    .dataframe tbody tr th:only-of-type {\n",
       "        vertical-align: middle;\n",
       "    }\n",
       "\n",
       "    .dataframe tbody tr th {\n",
       "        vertical-align: top;\n",
       "    }\n",
       "\n",
       "    .dataframe thead th {\n",
       "        text-align: right;\n",
       "    }\n",
       "</style>\n",
       "<table border=\"1\" class=\"dataframe\">\n",
       "  <thead>\n",
       "    <tr style=\"text-align: right;\">\n",
       "      <th></th>\n",
       "      <th>Date</th>\n",
       "      <th>Open</th>\n",
       "      <th>High</th>\n",
       "      <th>Low</th>\n",
       "      <th>Close</th>\n",
       "      <th>Volume</th>\n",
       "    </tr>\n",
       "  </thead>\n",
       "  <tbody>\n",
       "    <tr>\n",
       "      <th>0</th>\n",
       "      <td>1/3/2012</td>\n",
       "      <td>325.25</td>\n",
       "      <td>332.83</td>\n",
       "      <td>324.97</td>\n",
       "      <td>663.59</td>\n",
       "      <td>7,380,500</td>\n",
       "    </tr>\n",
       "    <tr>\n",
       "      <th>1</th>\n",
       "      <td>1/4/2012</td>\n",
       "      <td>331.27</td>\n",
       "      <td>333.87</td>\n",
       "      <td>329.08</td>\n",
       "      <td>666.45</td>\n",
       "      <td>5,749,400</td>\n",
       "    </tr>\n",
       "    <tr>\n",
       "      <th>2</th>\n",
       "      <td>1/5/2012</td>\n",
       "      <td>329.83</td>\n",
       "      <td>330.75</td>\n",
       "      <td>326.89</td>\n",
       "      <td>657.21</td>\n",
       "      <td>6,590,300</td>\n",
       "    </tr>\n",
       "    <tr>\n",
       "      <th>3</th>\n",
       "      <td>1/6/2012</td>\n",
       "      <td>328.34</td>\n",
       "      <td>328.77</td>\n",
       "      <td>323.68</td>\n",
       "      <td>648.24</td>\n",
       "      <td>5,405,900</td>\n",
       "    </tr>\n",
       "    <tr>\n",
       "      <th>4</th>\n",
       "      <td>1/9/2012</td>\n",
       "      <td>322.04</td>\n",
       "      <td>322.29</td>\n",
       "      <td>309.46</td>\n",
       "      <td>620.76</td>\n",
       "      <td>11,688,800</td>\n",
       "    </tr>\n",
       "  </tbody>\n",
       "</table>\n",
       "</div>"
      ],
      "text/plain": [
       "       Date    Open    High     Low   Close      Volume\n",
       "0  1/3/2012  325.25  332.83  324.97  663.59   7,380,500\n",
       "1  1/4/2012  331.27  333.87  329.08  666.45   5,749,400\n",
       "2  1/5/2012  329.83  330.75  326.89  657.21   6,590,300\n",
       "3  1/6/2012  328.34  328.77  323.68  648.24   5,405,900\n",
       "4  1/9/2012  322.04  322.29  309.46  620.76  11,688,800"
      ]
     },
     "execution_count": 2,
     "metadata": {},
     "output_type": "execute_result"
    }
   ],
   "source": [
    "A.head()"
   ]
  },
  {
   "cell_type": "markdown",
   "id": "e720ec13",
   "metadata": {},
   "source": [
    "# check missing data"
   ]
  },
  {
   "cell_type": "code",
   "execution_count": 3,
   "id": "0f40ecac",
   "metadata": {},
   "outputs": [
    {
     "data": {
      "text/plain": [
       "Date      0\n",
       "Open      0\n",
       "High      0\n",
       "Low       0\n",
       "Close     0\n",
       "Volume    0\n",
       "dtype: int64"
      ]
     },
     "execution_count": 3,
     "metadata": {},
     "output_type": "execute_result"
    }
   ],
   "source": [
    "A.isnull().sum()"
   ]
  },
  {
   "cell_type": "markdown",
   "id": "44d6d6e3",
   "metadata": {},
   "source": [
    "# get Stock opening Price"
   ]
  },
  {
   "cell_type": "code",
   "execution_count": 4,
   "id": "3f7c2608",
   "metadata": {},
   "outputs": [],
   "source": [
    "trd = A[[\"Open\"]].values"
   ]
  },
  {
   "cell_type": "markdown",
   "id": "71ea60ab",
   "metadata": {},
   "source": [
    "# Use MinMaxScaler to scale our data between 0 and 1"
   ]
  },
  {
   "cell_type": "code",
   "execution_count": 5,
   "id": "116b29f5",
   "metadata": {},
   "outputs": [],
   "source": [
    "from sklearn.preprocessing import MinMaxScaler\n",
    "mm = MinMaxScaler()\n",
    "trd_scaled = mm.fit_transform(trd)"
   ]
  },
  {
   "cell_type": "code",
   "execution_count": 6,
   "id": "67766794",
   "metadata": {},
   "outputs": [
    {
     "data": {
      "text/plain": [
       "(1258, 1)"
      ]
     },
     "execution_count": 6,
     "metadata": {},
     "output_type": "execute_result"
    }
   ],
   "source": [
    "trd_scaled.shape"
   ]
  },
  {
   "cell_type": "markdown",
   "id": "30a1945f",
   "metadata": {},
   "source": [
    "# initialized data into xtrain and ytrain\n",
    "we want to predict 61st value of stock price\n",
    "the first entry in the xtrain would be an array of first 60 open stock price and first entry in ytrain would be 61st value of open stock price"
   ]
  },
  {
   "cell_type": "code",
   "execution_count": 7,
   "id": "13035064",
   "metadata": {},
   "outputs": [],
   "source": [
    "xtrain = []\n",
    "ytrain = []\n",
    "for i in range(60,1258,1):\n",
    "    xtrain.append(trd_scaled[i-60:i])\n",
    "    ytrain.append(trd_scaled[i:i+1,0])"
   ]
  },
  {
   "cell_type": "code",
   "execution_count": 8,
   "id": "504df725",
   "metadata": {},
   "outputs": [
    {
     "data": {
      "text/plain": [
       "list"
      ]
     },
     "execution_count": 8,
     "metadata": {},
     "output_type": "execute_result"
    }
   ],
   "source": [
    "type(xtrain)"
   ]
  },
  {
   "cell_type": "code",
   "execution_count": 9,
   "id": "046bf644",
   "metadata": {},
   "outputs": [],
   "source": [
    "import numpy as np"
   ]
  },
  {
   "cell_type": "code",
   "execution_count": 10,
   "id": "37636ce0",
   "metadata": {},
   "outputs": [],
   "source": [
    "xtr = np.array(xtrain) # xtrain and ytrain in the from of list using numpy library we convert into array\n",
    "ytr = np.array(ytrain)"
   ]
  },
  {
   "cell_type": "code",
   "execution_count": 11,
   "id": "d2a45a1f",
   "metadata": {},
   "outputs": [
    {
     "data": {
      "text/plain": [
       "(1198, 60, 1)"
      ]
     },
     "execution_count": 11,
     "metadata": {},
     "output_type": "execute_result"
    }
   ],
   "source": [
    "xtr.shape"
   ]
  },
  {
   "cell_type": "code",
   "execution_count": 12,
   "id": "13274c71",
   "metadata": {},
   "outputs": [
    {
     "data": {
      "text/plain": [
       "(1198, 1)"
      ]
     },
     "execution_count": 12,
     "metadata": {},
     "output_type": "execute_result"
    }
   ],
   "source": [
    "ytr.shape"
   ]
  },
  {
   "cell_type": "markdown",
   "id": "a0b9e1f4",
   "metadata": {},
   "source": [
    "# Creat the Model"
   ]
  },
  {
   "cell_type": "code",
   "execution_count": 13,
   "id": "e9d763e9",
   "metadata": {},
   "outputs": [],
   "source": [
    "from keras.models import Sequential\n",
    "from keras.layers import LSTM,Dropout,Dense"
   ]
  },
  {
   "cell_type": "code",
   "execution_count": 14,
   "id": "60d4aeab",
   "metadata": {},
   "outputs": [],
   "source": [
    "nn = Sequential()\n",
    "nn.add(LSTM(units = 50, return_sequences = True, input_shape = (60,1)))\n",
    "nn.add(Dropout(0.2))\n",
    "\n",
    "nn.add(LSTM(units = 50, return_sequences = True))\n",
    "nn.add(Dropout(0.2))\n",
    "\n",
    "nn.add(LSTM(units = 50, return_sequences = True))\n",
    "nn.add(Dropout(0.2))\n",
    "\n",
    "nn.add(LSTM(units = 50))\n",
    "nn.add(Dropout(0.2))\n",
    "\n",
    "nn.add(Dense(units = 1))"
   ]
  },
  {
   "cell_type": "code",
   "execution_count": 15,
   "id": "3c0908ea",
   "metadata": {},
   "outputs": [
    {
     "name": "stdout",
     "output_type": "stream",
     "text": [
      "Epoch 1/100\n",
      "38/38 [==============================] - 16s 131ms/step - loss: 0.0395\n",
      "Epoch 2/100\n",
      "38/38 [==============================] - 5s 131ms/step - loss: 0.0069\n",
      "Epoch 3/100\n",
      "38/38 [==============================] - 5s 130ms/step - loss: 0.0060\n",
      "Epoch 4/100\n",
      "38/38 [==============================] - 5s 138ms/step - loss: 0.0052\n",
      "Epoch 5/100\n",
      "38/38 [==============================] - 5s 128ms/step - loss: 0.0046\n",
      "Epoch 6/100\n",
      "38/38 [==============================] - 5s 128ms/step - loss: 0.0045\n",
      "Epoch 7/100\n",
      "38/38 [==============================] - 5s 141ms/step - loss: 0.0046\n",
      "Epoch 8/100\n",
      "38/38 [==============================] - 5s 130ms/step - loss: 0.0044\n",
      "Epoch 9/100\n",
      "38/38 [==============================] - 5s 130ms/step - loss: 0.0044\n",
      "Epoch 10/100\n",
      "38/38 [==============================] - 5s 140ms/step - loss: 0.0041\n",
      "Epoch 11/100\n",
      "38/38 [==============================] - 5s 132ms/step - loss: 0.0039\n",
      "Epoch 12/100\n",
      "38/38 [==============================] - 5s 128ms/step - loss: 0.0045\n",
      "Epoch 13/100\n",
      "38/38 [==============================] - 5s 138ms/step - loss: 0.0041\n",
      "Epoch 14/100\n",
      "38/38 [==============================] - 5s 135ms/step - loss: 0.0038\n",
      "Epoch 15/100\n",
      "38/38 [==============================] - 5s 130ms/step - loss: 0.0039\n",
      "Epoch 16/100\n",
      "38/38 [==============================] - 5s 137ms/step - loss: 0.0041\n",
      "Epoch 17/100\n",
      "38/38 [==============================] - 5s 135ms/step - loss: 0.0035\n",
      "Epoch 18/100\n",
      "38/38 [==============================] - 5s 129ms/step - loss: 0.0047\n",
      "Epoch 19/100\n",
      "38/38 [==============================] - 5s 133ms/step - loss: 0.0031\n",
      "Epoch 20/100\n",
      "38/38 [==============================] - 5s 138ms/step - loss: 0.0032\n",
      "Epoch 21/100\n",
      "38/38 [==============================] - 5s 129ms/step - loss: 0.0033\n",
      "Epoch 22/100\n",
      "38/38 [==============================] - 5s 133ms/step - loss: 0.0039\n",
      "Epoch 23/100\n",
      "38/38 [==============================] - 5s 139ms/step - loss: 0.0040\n",
      "Epoch 24/100\n",
      "38/38 [==============================] - 5s 129ms/step - loss: 0.0033\n",
      "Epoch 25/100\n",
      "38/38 [==============================] - 5s 132ms/step - loss: 0.0034\n",
      "Epoch 26/100\n",
      "38/38 [==============================] - 5s 141ms/step - loss: 0.0030\n",
      "Epoch 27/100\n",
      "38/38 [==============================] - 5s 128ms/step - loss: 0.0030\n",
      "Epoch 28/100\n",
      "38/38 [==============================] - 5s 136ms/step - loss: 0.0037\n",
      "Epoch 29/100\n",
      "38/38 [==============================] - 5s 141ms/step - loss: 0.0032\n",
      "Epoch 30/100\n",
      "38/38 [==============================] - 5s 130ms/step - loss: 0.0029\n",
      "Epoch 31/100\n",
      "38/38 [==============================] - 5s 128ms/step - loss: 0.0028\n",
      "Epoch 32/100\n",
      "38/38 [==============================] - 5s 139ms/step - loss: 0.0026\n",
      "Epoch 33/100\n",
      "38/38 [==============================] - 5s 134ms/step - loss: 0.0026\n",
      "Epoch 34/100\n",
      "38/38 [==============================] - 5s 129ms/step - loss: 0.0031\n",
      "Epoch 35/100\n",
      "38/38 [==============================] - 5s 137ms/step - loss: 0.0029\n",
      "Epoch 36/100\n",
      "38/38 [==============================] - 5s 132ms/step - loss: 0.0032\n",
      "Epoch 37/100\n",
      "38/38 [==============================] - 5s 129ms/step - loss: 0.0025\n",
      "Epoch 38/100\n",
      "38/38 [==============================] - 5s 137ms/step - loss: 0.0027\n",
      "Epoch 39/100\n",
      "38/38 [==============================] - 5s 135ms/step - loss: 0.0026\n",
      "Epoch 40/100\n",
      "38/38 [==============================] - 5s 128ms/step - loss: 0.0025\n",
      "Epoch 41/100\n",
      "38/38 [==============================] - 5s 134ms/step - loss: 0.0023\n",
      "Epoch 42/100\n",
      "38/38 [==============================] - 5s 142ms/step - loss: 0.0026\n",
      "Epoch 43/100\n",
      "38/38 [==============================] - 5s 129ms/step - loss: 0.0024\n",
      "Epoch 44/100\n",
      "38/38 [==============================] - 5s 135ms/step - loss: 0.0027\n",
      "Epoch 45/100\n",
      "38/38 [==============================] - 5s 138ms/step - loss: 0.0025\n",
      "Epoch 46/100\n",
      "38/38 [==============================] - 5s 130ms/step - loss: 0.0021\n",
      "Epoch 47/100\n",
      "38/38 [==============================] - 5s 131ms/step - loss: 0.0027\n",
      "Epoch 48/100\n",
      "38/38 [==============================] - 5s 140ms/step - loss: 0.0022\n",
      "Epoch 49/100\n",
      "38/38 [==============================] - 5s 132ms/step - loss: 0.0023\n",
      "Epoch 50/100\n",
      "38/38 [==============================] - 5s 130ms/step - loss: 0.0022\n",
      "Epoch 51/100\n",
      "38/38 [==============================] - 5s 139ms/step - loss: 0.0021\n",
      "Epoch 52/100\n",
      "38/38 [==============================] - 5s 132ms/step - loss: 0.0022\n",
      "Epoch 53/100\n",
      "38/38 [==============================] - 5s 130ms/step - loss: 0.0021\n",
      "Epoch 54/100\n",
      "38/38 [==============================] - 5s 140ms/step - loss: 0.0022\n",
      "Epoch 55/100\n",
      "38/38 [==============================] - 5s 131ms/step - loss: 0.0024\n",
      "Epoch 56/100\n",
      "38/38 [==============================] - 5s 132ms/step - loss: 0.0022\n",
      "Epoch 57/100\n",
      "38/38 [==============================] - 5s 138ms/step - loss: 0.0020\n",
      "Epoch 58/100\n",
      "38/38 [==============================] - 5s 133ms/step - loss: 0.0023\n",
      "Epoch 59/100\n",
      "38/38 [==============================] - 5s 130ms/step - loss: 0.0021\n",
      "Epoch 60/100\n",
      "38/38 [==============================] - 5s 136ms/step - loss: 0.0021\n",
      "Epoch 61/100\n",
      "38/38 [==============================] - 5s 136ms/step - loss: 0.0019\n",
      "Epoch 62/100\n",
      "38/38 [==============================] - 5s 130ms/step - loss: 0.0022\n",
      "Epoch 63/100\n",
      "38/38 [==============================] - 5s 136ms/step - loss: 0.0021\n",
      "Epoch 64/100\n",
      "38/38 [==============================] - 5s 136ms/step - loss: 0.0019\n",
      "Epoch 65/100\n",
      "38/38 [==============================] - 5s 131ms/step - loss: 0.0018\n",
      "Epoch 66/100\n",
      "38/38 [==============================] - 5s 132ms/step - loss: 0.0020\n",
      "Epoch 67/100\n",
      "38/38 [==============================] - 5s 139ms/step - loss: 0.0019\n",
      "Epoch 68/100\n",
      "38/38 [==============================] - 5s 133ms/step - loss: 0.0018\n",
      "Epoch 69/100\n",
      "38/38 [==============================] - 5s 139ms/step - loss: 0.0019\n",
      "Epoch 70/100\n",
      "38/38 [==============================] - 5s 141ms/step - loss: 0.0021\n",
      "Epoch 71/100\n",
      "38/38 [==============================] - 5s 137ms/step - loss: 0.0019\n",
      "Epoch 72/100\n",
      "38/38 [==============================] - 5s 135ms/step - loss: 0.0019\n",
      "Epoch 73/100\n",
      "38/38 [==============================] - 5s 141ms/step - loss: 0.0017\n",
      "Epoch 74/100\n",
      "38/38 [==============================] - 5s 131ms/step - loss: 0.0016\n",
      "Epoch 75/100\n",
      "38/38 [==============================] - 5s 132ms/step - loss: 0.0020\n",
      "Epoch 76/100\n",
      "38/38 [==============================] - 5s 141ms/step - loss: 0.0018\n",
      "Epoch 77/100\n",
      "38/38 [==============================] - 5s 137ms/step - loss: 0.0020\n",
      "Epoch 78/100\n",
      "38/38 [==============================] - 5s 141ms/step - loss: 0.0015\n",
      "Epoch 79/100\n",
      "38/38 [==============================] - 6s 148ms/step - loss: 0.0017\n",
      "Epoch 80/100\n",
      "38/38 [==============================] - 5s 140ms/step - loss: 0.0018\n",
      "Epoch 81/100\n",
      "38/38 [==============================] - 5s 134ms/step - loss: 0.0018\n",
      "Epoch 82/100\n",
      "38/38 [==============================] - 5s 143ms/step - loss: 0.0017\n",
      "Epoch 83/100\n",
      "38/38 [==============================] - 5s 134ms/step - loss: 0.0014\n",
      "Epoch 84/100\n",
      "38/38 [==============================] - 5s 133ms/step - loss: 0.0016\n",
      "Epoch 85/100\n",
      "38/38 [==============================] - 6s 145ms/step - loss: 0.0014\n",
      "Epoch 86/100\n",
      "38/38 [==============================] - 5s 138ms/step - loss: 0.0016\n",
      "Epoch 87/100\n",
      "38/38 [==============================] - 5s 139ms/step - loss: 0.0015\n",
      "Epoch 88/100\n",
      "38/38 [==============================] - 5s 143ms/step - loss: 0.0015\n",
      "Epoch 89/100\n",
      "38/38 [==============================] - 5s 132ms/step - loss: 0.0015\n",
      "Epoch 90/100\n",
      "38/38 [==============================] - 5s 133ms/step - loss: 0.0015\n",
      "Epoch 91/100\n",
      "38/38 [==============================] - 5s 143ms/step - loss: 0.0015\n",
      "Epoch 92/100\n",
      "38/38 [==============================] - 5s 136ms/step - loss: 0.0015\n",
      "Epoch 93/100\n",
      "38/38 [==============================] - 5s 131ms/step - loss: 0.0015\n",
      "Epoch 94/100\n",
      "38/38 [==============================] - 5s 144ms/step - loss: 0.0014\n",
      "Epoch 95/100\n",
      "38/38 [==============================] - 5s 136ms/step - loss: 0.0016\n",
      "Epoch 96/100\n",
      "38/38 [==============================] - 5s 133ms/step - loss: 0.0018\n",
      "Epoch 97/100\n",
      "38/38 [==============================] - 5s 143ms/step - loss: 0.0014\n",
      "Epoch 98/100\n",
      "38/38 [==============================] - 5s 141ms/step - loss: 0.0014\n",
      "Epoch 99/100\n",
      "38/38 [==============================] - 5s 129ms/step - loss: 0.0015\n",
      "Epoch 100/100\n",
      "38/38 [==============================] - 5s 142ms/step - loss: 0.0015\n"
     ]
    },
    {
     "data": {
      "text/plain": [
       "<keras.callbacks.History at 0x1843acb6ca0>"
      ]
     },
     "execution_count": 15,
     "metadata": {},
     "output_type": "execute_result"
    }
   ],
   "source": [
    "nn.compile(optimizer = 'adam', loss = 'mean_squared_error')\n",
    "nn.fit(xtr,ytr,epochs=100)"
   ]
  },
  {
   "cell_type": "code",
   "execution_count": 16,
   "id": "de2cf364",
   "metadata": {},
   "outputs": [],
   "source": [
    "d = nn.predict(xtr)"
   ]
  },
  {
   "cell_type": "code",
   "execution_count": 17,
   "id": "da5e9bcc",
   "metadata": {},
   "outputs": [
    {
     "data": {
      "text/plain": [
       "array([[0.09927391],\n",
       "       [0.10111974],\n",
       "       [0.10230485],\n",
       "       ...,\n",
       "       [0.9229605 ],\n",
       "       [0.9242383 ],\n",
       "       [0.92149   ]], dtype=float32)"
      ]
     },
     "execution_count": 17,
     "metadata": {},
     "output_type": "execute_result"
    }
   ],
   "source": [
    "d"
   ]
  },
  {
   "cell_type": "code",
   "execution_count": 18,
   "id": "c7d3526f",
   "metadata": {},
   "outputs": [
    {
     "data": {
      "text/plain": [
       "0.019217943668628994"
      ]
     },
     "execution_count": 18,
     "metadata": {},
     "output_type": "execute_result"
    }
   ],
   "source": [
    "from sklearn.metrics import mean_absolute_error\n",
    "mean_absolute_error(ytr,d)"
   ]
  },
  {
   "cell_type": "code",
   "execution_count": 19,
   "id": "d5c947ef",
   "metadata": {},
   "outputs": [],
   "source": [
    "c = pd.DataFrame(mm.inverse_transform(ytr))"
   ]
  },
  {
   "cell_type": "code",
   "execution_count": 20,
   "id": "0ca4b41a",
   "metadata": {},
   "outputs": [],
   "source": [
    "c[\"1\"] = pd.DataFrame(mm.inverse_transform(d))"
   ]
  },
  {
   "cell_type": "code",
   "execution_count": 21,
   "id": "0e62978f",
   "metadata": {},
   "outputs": [
    {
     "data": {
      "text/html": [
       "<div>\n",
       "<style scoped>\n",
       "    .dataframe tbody tr th:only-of-type {\n",
       "        vertical-align: middle;\n",
       "    }\n",
       "\n",
       "    .dataframe tbody tr th {\n",
       "        vertical-align: top;\n",
       "    }\n",
       "\n",
       "    .dataframe thead th {\n",
       "        text-align: right;\n",
       "    }\n",
       "</style>\n",
       "<table border=\"1\" class=\"dataframe\">\n",
       "  <thead>\n",
       "    <tr style=\"text-align: right;\">\n",
       "      <th></th>\n",
       "      <th>0</th>\n",
       "      <th>1</th>\n",
       "    </tr>\n",
       "  </thead>\n",
       "  <tbody>\n",
       "    <tr>\n",
       "      <th>0</th>\n",
       "      <td>325.50</td>\n",
       "      <td>332.485687</td>\n",
       "    </tr>\n",
       "    <tr>\n",
       "      <th>1</th>\n",
       "      <td>324.66</td>\n",
       "      <td>333.477936</td>\n",
       "    </tr>\n",
       "    <tr>\n",
       "      <th>2</th>\n",
       "      <td>319.19</td>\n",
       "      <td>334.114990</td>\n",
       "    </tr>\n",
       "    <tr>\n",
       "      <th>3</th>\n",
       "      <td>321.50</td>\n",
       "      <td>333.726532</td>\n",
       "    </tr>\n",
       "    <tr>\n",
       "      <th>4</th>\n",
       "      <td>318.03</td>\n",
       "      <td>332.617798</td>\n",
       "    </tr>\n",
       "    <tr>\n",
       "      <th>...</th>\n",
       "      <td>...</td>\n",
       "      <td>...</td>\n",
       "    </tr>\n",
       "    <tr>\n",
       "      <th>1193</th>\n",
       "      <td>790.90</td>\n",
       "      <td>775.983093</td>\n",
       "    </tr>\n",
       "    <tr>\n",
       "      <th>1194</th>\n",
       "      <td>790.68</td>\n",
       "      <td>775.598328</td>\n",
       "    </tr>\n",
       "    <tr>\n",
       "      <th>1195</th>\n",
       "      <td>793.70</td>\n",
       "      <td>775.266602</td>\n",
       "    </tr>\n",
       "    <tr>\n",
       "      <th>1196</th>\n",
       "      <td>783.33</td>\n",
       "      <td>775.953552</td>\n",
       "    </tr>\n",
       "    <tr>\n",
       "      <th>1197</th>\n",
       "      <td>782.75</td>\n",
       "      <td>774.476196</td>\n",
       "    </tr>\n",
       "  </tbody>\n",
       "</table>\n",
       "<p>1198 rows × 2 columns</p>\n",
       "</div>"
      ],
      "text/plain": [
       "           0           1\n",
       "0     325.50  332.485687\n",
       "1     324.66  333.477936\n",
       "2     319.19  334.114990\n",
       "3     321.50  333.726532\n",
       "4     318.03  332.617798\n",
       "...      ...         ...\n",
       "1193  790.90  775.983093\n",
       "1194  790.68  775.598328\n",
       "1195  793.70  775.266602\n",
       "1196  783.33  775.953552\n",
       "1197  782.75  774.476196\n",
       "\n",
       "[1198 rows x 2 columns]"
      ]
     },
     "execution_count": 21,
     "metadata": {},
     "output_type": "execute_result"
    }
   ],
   "source": [
    "c"
   ]
  },
  {
   "cell_type": "markdown",
   "id": "e7b98dff",
   "metadata": {},
   "source": [
    "# read the tst data"
   ]
  },
  {
   "cell_type": "code",
   "execution_count": 23,
   "id": "4e3879e1",
   "metadata": {},
   "outputs": [],
   "source": [
    "B = pd.read_csv(\"C:Documents/Google_Stock_Price_Test.csv\")\n",
    "B.head()\n",
    "real_stock_price = B[[\"Open\"]]"
   ]
  },
  {
   "cell_type": "markdown",
   "id": "9cf42389",
   "metadata": {},
   "source": [
    "# check missing values in test data"
   ]
  },
  {
   "cell_type": "code",
   "execution_count": 24,
   "id": "14d088c7",
   "metadata": {},
   "outputs": [
    {
     "data": {
      "text/plain": [
       "Date      0\n",
       "Open      0\n",
       "High      0\n",
       "Low       0\n",
       "Close     0\n",
       "Volume    0\n",
       "dtype: int64"
      ]
     },
     "execution_count": 24,
     "metadata": {},
     "output_type": "execute_result"
    }
   ],
   "source": [
    "B.isna().sum()"
   ]
  },
  {
   "cell_type": "code",
   "execution_count": 25,
   "id": "57f428d3",
   "metadata": {},
   "outputs": [
    {
     "data": {
      "text/plain": [
       "(20, 6)"
      ]
     },
     "execution_count": 25,
     "metadata": {},
     "output_type": "execute_result"
    }
   ],
   "source": [
    "B.shape"
   ]
  },
  {
   "cell_type": "code",
   "execution_count": 26,
   "id": "c7826d83",
   "metadata": {},
   "outputs": [],
   "source": [
    "tsd = pd.concat([A,B])\n",
    "tsd.index = range(0,1278)"
   ]
  },
  {
   "cell_type": "code",
   "execution_count": 27,
   "id": "22631505",
   "metadata": {},
   "outputs": [
    {
     "data": {
      "text/plain": [
       "(1278, 6)"
      ]
     },
     "execution_count": 27,
     "metadata": {},
     "output_type": "execute_result"
    }
   ],
   "source": [
    "tsd.shape"
   ]
  },
  {
   "cell_type": "code",
   "execution_count": 28,
   "id": "826a51e8",
   "metadata": {},
   "outputs": [],
   "source": [
    "tsd = tsd[[\"Open\"]].values"
   ]
  },
  {
   "cell_type": "markdown",
   "id": "7b453074",
   "metadata": {},
   "source": [
    "# Use MinMaxScaler to scale our test data between 0 and 1"
   ]
  },
  {
   "cell_type": "code",
   "execution_count": 29,
   "id": "37e12c37",
   "metadata": {},
   "outputs": [],
   "source": [
    "tsd_scaled = mm.fit_transform(tsd)"
   ]
  },
  {
   "cell_type": "code",
   "execution_count": 30,
   "id": "b8a6f28f",
   "metadata": {},
   "outputs": [
    {
     "data": {
      "text/plain": [
       "(1278, 1)"
      ]
     },
     "execution_count": 30,
     "metadata": {},
     "output_type": "execute_result"
    }
   ],
   "source": [
    "tsd_scaled.shape"
   ]
  },
  {
   "cell_type": "markdown",
   "id": "8e37d041",
   "metadata": {},
   "source": [
    "# initialized data into xtest"
   ]
  },
  {
   "cell_type": "code",
   "execution_count": 31,
   "id": "0f58f134",
   "metadata": {},
   "outputs": [],
   "source": [
    "xtest = []\n",
    "for i in range(1258,1278,1):\n",
    "    xtest.append(tsd_scaled[i-60:i])"
   ]
  },
  {
   "cell_type": "code",
   "execution_count": 32,
   "id": "00268476",
   "metadata": {},
   "outputs": [
    {
     "data": {
      "text/plain": [
       "list"
      ]
     },
     "execution_count": 32,
     "metadata": {},
     "output_type": "execute_result"
    }
   ],
   "source": [
    "type(xtest)"
   ]
  },
  {
   "cell_type": "code",
   "execution_count": 33,
   "id": "a0315f5b",
   "metadata": {},
   "outputs": [],
   "source": [
    "xts = np.array(xtest) #xtest in the from of list using numpy library we convert into array"
   ]
  },
  {
   "cell_type": "code",
   "execution_count": 34,
   "id": "888e4959",
   "metadata": {},
   "outputs": [
    {
     "data": {
      "text/plain": [
       "(20, 60, 1)"
      ]
     },
     "execution_count": 34,
     "metadata": {},
     "output_type": "execute_result"
    }
   ],
   "source": [
    "xts.shape"
   ]
  },
  {
   "cell_type": "code",
   "execution_count": 35,
   "id": "74233b26",
   "metadata": {},
   "outputs": [],
   "source": [
    "test_predication = nn.predict(xts)"
   ]
  },
  {
   "cell_type": "markdown",
   "id": "50db7fb8",
   "metadata": {},
   "source": [
    "# make Predication Using Model"
   ]
  },
  {
   "cell_type": "code",
   "execution_count": 36,
   "id": "0839473f",
   "metadata": {},
   "outputs": [],
   "source": [
    "L = pd.DataFrame(mm.inverse_transform(test_predication))"
   ]
  },
  {
   "cell_type": "code",
   "execution_count": 37,
   "id": "827c90b1",
   "metadata": {},
   "outputs": [
    {
     "data": {
      "text/html": [
       "<div>\n",
       "<style scoped>\n",
       "    .dataframe tbody tr th:only-of-type {\n",
       "        vertical-align: middle;\n",
       "    }\n",
       "\n",
       "    .dataframe tbody tr th {\n",
       "        vertical-align: top;\n",
       "    }\n",
       "\n",
       "    .dataframe thead th {\n",
       "        text-align: right;\n",
       "    }\n",
       "</style>\n",
       "<table border=\"1\" class=\"dataframe\">\n",
       "  <thead>\n",
       "    <tr style=\"text-align: right;\">\n",
       "      <th></th>\n",
       "      <th>0</th>\n",
       "    </tr>\n",
       "  </thead>\n",
       "  <tbody>\n",
       "    <tr>\n",
       "      <th>0</th>\n",
       "      <td>773.440063</td>\n",
       "    </tr>\n",
       "    <tr>\n",
       "      <th>1</th>\n",
       "      <td>770.616272</td>\n",
       "    </tr>\n",
       "    <tr>\n",
       "      <th>2</th>\n",
       "      <td>770.752014</td>\n",
       "    </tr>\n",
       "    <tr>\n",
       "      <th>3</th>\n",
       "      <td>772.033142</td>\n",
       "    </tr>\n",
       "    <tr>\n",
       "      <th>4</th>\n",
       "      <td>775.323303</td>\n",
       "    </tr>\n",
       "    <tr>\n",
       "      <th>5</th>\n",
       "      <td>781.186096</td>\n",
       "    </tr>\n",
       "    <tr>\n",
       "      <th>6</th>\n",
       "      <td>786.565796</td>\n",
       "    </tr>\n",
       "    <tr>\n",
       "      <th>7</th>\n",
       "      <td>788.787659</td>\n",
       "    </tr>\n",
       "    <tr>\n",
       "      <th>8</th>\n",
       "      <td>789.135986</td>\n",
       "    </tr>\n",
       "    <tr>\n",
       "      <th>9</th>\n",
       "      <td>788.814209</td>\n",
       "    </tr>\n",
       "    <tr>\n",
       "      <th>10</th>\n",
       "      <td>788.427795</td>\n",
       "    </tr>\n",
       "    <tr>\n",
       "      <th>11</th>\n",
       "      <td>788.033142</td>\n",
       "    </tr>\n",
       "    <tr>\n",
       "      <th>12</th>\n",
       "      <td>787.770386</td>\n",
       "    </tr>\n",
       "    <tr>\n",
       "      <th>13</th>\n",
       "      <td>788.269714</td>\n",
       "    </tr>\n",
       "    <tr>\n",
       "      <th>14</th>\n",
       "      <td>789.233154</td>\n",
       "    </tr>\n",
       "    <tr>\n",
       "      <th>15</th>\n",
       "      <td>793.856995</td>\n",
       "    </tr>\n",
       "    <tr>\n",
       "      <th>16</th>\n",
       "      <td>800.744141</td>\n",
       "    </tr>\n",
       "    <tr>\n",
       "      <th>17</th>\n",
       "      <td>808.129822</td>\n",
       "    </tr>\n",
       "    <tr>\n",
       "      <th>18</th>\n",
       "      <td>812.122559</td>\n",
       "    </tr>\n",
       "    <tr>\n",
       "      <th>19</th>\n",
       "      <td>808.005676</td>\n",
       "    </tr>\n",
       "  </tbody>\n",
       "</table>\n",
       "</div>"
      ],
      "text/plain": [
       "             0\n",
       "0   773.440063\n",
       "1   770.616272\n",
       "2   770.752014\n",
       "3   772.033142\n",
       "4   775.323303\n",
       "5   781.186096\n",
       "6   786.565796\n",
       "7   788.787659\n",
       "8   789.135986\n",
       "9   788.814209\n",
       "10  788.427795\n",
       "11  788.033142\n",
       "12  787.770386\n",
       "13  788.269714\n",
       "14  789.233154\n",
       "15  793.856995\n",
       "16  800.744141\n",
       "17  808.129822\n",
       "18  812.122559\n",
       "19  808.005676"
      ]
     },
     "execution_count": 37,
     "metadata": {},
     "output_type": "execute_result"
    }
   ],
   "source": [
    "L"
   ]
  },
  {
   "cell_type": "code",
   "execution_count": 38,
   "id": "2d990812",
   "metadata": {},
   "outputs": [],
   "source": [
    "B[\"Pred\"] = L"
   ]
  },
  {
   "cell_type": "code",
   "execution_count": 39,
   "id": "c5be2687",
   "metadata": {},
   "outputs": [
    {
     "data": {
      "text/html": [
       "<div>\n",
       "<style scoped>\n",
       "    .dataframe tbody tr th:only-of-type {\n",
       "        vertical-align: middle;\n",
       "    }\n",
       "\n",
       "    .dataframe tbody tr th {\n",
       "        vertical-align: top;\n",
       "    }\n",
       "\n",
       "    .dataframe thead th {\n",
       "        text-align: right;\n",
       "    }\n",
       "</style>\n",
       "<table border=\"1\" class=\"dataframe\">\n",
       "  <thead>\n",
       "    <tr style=\"text-align: right;\">\n",
       "      <th></th>\n",
       "      <th>Date</th>\n",
       "      <th>Open</th>\n",
       "      <th>High</th>\n",
       "      <th>Low</th>\n",
       "      <th>Close</th>\n",
       "      <th>Volume</th>\n",
       "      <th>Pred</th>\n",
       "    </tr>\n",
       "  </thead>\n",
       "  <tbody>\n",
       "    <tr>\n",
       "      <th>0</th>\n",
       "      <td>1/3/2017</td>\n",
       "      <td>778.81</td>\n",
       "      <td>789.63</td>\n",
       "      <td>775.80</td>\n",
       "      <td>786.14</td>\n",
       "      <td>1,657,300</td>\n",
       "      <td>773.440063</td>\n",
       "    </tr>\n",
       "    <tr>\n",
       "      <th>1</th>\n",
       "      <td>1/4/2017</td>\n",
       "      <td>788.36</td>\n",
       "      <td>791.34</td>\n",
       "      <td>783.16</td>\n",
       "      <td>786.90</td>\n",
       "      <td>1,073,000</td>\n",
       "      <td>770.616272</td>\n",
       "    </tr>\n",
       "    <tr>\n",
       "      <th>2</th>\n",
       "      <td>1/5/2017</td>\n",
       "      <td>786.08</td>\n",
       "      <td>794.48</td>\n",
       "      <td>785.02</td>\n",
       "      <td>794.02</td>\n",
       "      <td>1,335,200</td>\n",
       "      <td>770.752014</td>\n",
       "    </tr>\n",
       "    <tr>\n",
       "      <th>3</th>\n",
       "      <td>1/6/2017</td>\n",
       "      <td>795.26</td>\n",
       "      <td>807.90</td>\n",
       "      <td>792.20</td>\n",
       "      <td>806.15</td>\n",
       "      <td>1,640,200</td>\n",
       "      <td>772.033142</td>\n",
       "    </tr>\n",
       "    <tr>\n",
       "      <th>4</th>\n",
       "      <td>1/9/2017</td>\n",
       "      <td>806.40</td>\n",
       "      <td>809.97</td>\n",
       "      <td>802.83</td>\n",
       "      <td>806.65</td>\n",
       "      <td>1,272,400</td>\n",
       "      <td>775.323303</td>\n",
       "    </tr>\n",
       "    <tr>\n",
       "      <th>5</th>\n",
       "      <td>1/10/2017</td>\n",
       "      <td>807.86</td>\n",
       "      <td>809.13</td>\n",
       "      <td>803.51</td>\n",
       "      <td>804.79</td>\n",
       "      <td>1,176,800</td>\n",
       "      <td>781.186096</td>\n",
       "    </tr>\n",
       "    <tr>\n",
       "      <th>6</th>\n",
       "      <td>1/11/2017</td>\n",
       "      <td>805.00</td>\n",
       "      <td>808.15</td>\n",
       "      <td>801.37</td>\n",
       "      <td>807.91</td>\n",
       "      <td>1,065,900</td>\n",
       "      <td>786.565796</td>\n",
       "    </tr>\n",
       "    <tr>\n",
       "      <th>7</th>\n",
       "      <td>1/12/2017</td>\n",
       "      <td>807.14</td>\n",
       "      <td>807.39</td>\n",
       "      <td>799.17</td>\n",
       "      <td>806.36</td>\n",
       "      <td>1,353,100</td>\n",
       "      <td>788.787659</td>\n",
       "    </tr>\n",
       "    <tr>\n",
       "      <th>8</th>\n",
       "      <td>1/13/2017</td>\n",
       "      <td>807.48</td>\n",
       "      <td>811.22</td>\n",
       "      <td>806.69</td>\n",
       "      <td>807.88</td>\n",
       "      <td>1,099,200</td>\n",
       "      <td>789.135986</td>\n",
       "    </tr>\n",
       "    <tr>\n",
       "      <th>9</th>\n",
       "      <td>1/17/2017</td>\n",
       "      <td>807.08</td>\n",
       "      <td>807.14</td>\n",
       "      <td>800.37</td>\n",
       "      <td>804.61</td>\n",
       "      <td>1,362,100</td>\n",
       "      <td>788.814209</td>\n",
       "    </tr>\n",
       "    <tr>\n",
       "      <th>10</th>\n",
       "      <td>1/18/2017</td>\n",
       "      <td>805.81</td>\n",
       "      <td>806.21</td>\n",
       "      <td>800.99</td>\n",
       "      <td>806.07</td>\n",
       "      <td>1,294,400</td>\n",
       "      <td>788.427795</td>\n",
       "    </tr>\n",
       "    <tr>\n",
       "      <th>11</th>\n",
       "      <td>1/19/2017</td>\n",
       "      <td>805.12</td>\n",
       "      <td>809.48</td>\n",
       "      <td>801.80</td>\n",
       "      <td>802.17</td>\n",
       "      <td>919,300</td>\n",
       "      <td>788.033142</td>\n",
       "    </tr>\n",
       "    <tr>\n",
       "      <th>12</th>\n",
       "      <td>1/20/2017</td>\n",
       "      <td>806.91</td>\n",
       "      <td>806.91</td>\n",
       "      <td>801.69</td>\n",
       "      <td>805.02</td>\n",
       "      <td>1,670,000</td>\n",
       "      <td>787.770386</td>\n",
       "    </tr>\n",
       "    <tr>\n",
       "      <th>13</th>\n",
       "      <td>1/23/2017</td>\n",
       "      <td>807.25</td>\n",
       "      <td>820.87</td>\n",
       "      <td>803.74</td>\n",
       "      <td>819.31</td>\n",
       "      <td>1,963,600</td>\n",
       "      <td>788.269714</td>\n",
       "    </tr>\n",
       "    <tr>\n",
       "      <th>14</th>\n",
       "      <td>1/24/2017</td>\n",
       "      <td>822.30</td>\n",
       "      <td>825.90</td>\n",
       "      <td>817.82</td>\n",
       "      <td>823.87</td>\n",
       "      <td>1,474,000</td>\n",
       "      <td>789.233154</td>\n",
       "    </tr>\n",
       "    <tr>\n",
       "      <th>15</th>\n",
       "      <td>1/25/2017</td>\n",
       "      <td>829.62</td>\n",
       "      <td>835.77</td>\n",
       "      <td>825.06</td>\n",
       "      <td>835.67</td>\n",
       "      <td>1,494,500</td>\n",
       "      <td>793.856995</td>\n",
       "    </tr>\n",
       "    <tr>\n",
       "      <th>16</th>\n",
       "      <td>1/26/2017</td>\n",
       "      <td>837.81</td>\n",
       "      <td>838.00</td>\n",
       "      <td>827.01</td>\n",
       "      <td>832.15</td>\n",
       "      <td>2,973,900</td>\n",
       "      <td>800.744141</td>\n",
       "    </tr>\n",
       "    <tr>\n",
       "      <th>17</th>\n",
       "      <td>1/27/2017</td>\n",
       "      <td>834.71</td>\n",
       "      <td>841.95</td>\n",
       "      <td>820.44</td>\n",
       "      <td>823.31</td>\n",
       "      <td>2,965,800</td>\n",
       "      <td>808.129822</td>\n",
       "    </tr>\n",
       "    <tr>\n",
       "      <th>18</th>\n",
       "      <td>1/30/2017</td>\n",
       "      <td>814.66</td>\n",
       "      <td>815.84</td>\n",
       "      <td>799.80</td>\n",
       "      <td>802.32</td>\n",
       "      <td>3,246,600</td>\n",
       "      <td>812.122559</td>\n",
       "    </tr>\n",
       "    <tr>\n",
       "      <th>19</th>\n",
       "      <td>1/31/2017</td>\n",
       "      <td>796.86</td>\n",
       "      <td>801.25</td>\n",
       "      <td>790.52</td>\n",
       "      <td>796.79</td>\n",
       "      <td>2,160,600</td>\n",
       "      <td>808.005676</td>\n",
       "    </tr>\n",
       "  </tbody>\n",
       "</table>\n",
       "</div>"
      ],
      "text/plain": [
       "         Date    Open    High     Low   Close     Volume        Pred\n",
       "0    1/3/2017  778.81  789.63  775.80  786.14  1,657,300  773.440063\n",
       "1    1/4/2017  788.36  791.34  783.16  786.90  1,073,000  770.616272\n",
       "2    1/5/2017  786.08  794.48  785.02  794.02  1,335,200  770.752014\n",
       "3    1/6/2017  795.26  807.90  792.20  806.15  1,640,200  772.033142\n",
       "4    1/9/2017  806.40  809.97  802.83  806.65  1,272,400  775.323303\n",
       "5   1/10/2017  807.86  809.13  803.51  804.79  1,176,800  781.186096\n",
       "6   1/11/2017  805.00  808.15  801.37  807.91  1,065,900  786.565796\n",
       "7   1/12/2017  807.14  807.39  799.17  806.36  1,353,100  788.787659\n",
       "8   1/13/2017  807.48  811.22  806.69  807.88  1,099,200  789.135986\n",
       "9   1/17/2017  807.08  807.14  800.37  804.61  1,362,100  788.814209\n",
       "10  1/18/2017  805.81  806.21  800.99  806.07  1,294,400  788.427795\n",
       "11  1/19/2017  805.12  809.48  801.80  802.17    919,300  788.033142\n",
       "12  1/20/2017  806.91  806.91  801.69  805.02  1,670,000  787.770386\n",
       "13  1/23/2017  807.25  820.87  803.74  819.31  1,963,600  788.269714\n",
       "14  1/24/2017  822.30  825.90  817.82  823.87  1,474,000  789.233154\n",
       "15  1/25/2017  829.62  835.77  825.06  835.67  1,494,500  793.856995\n",
       "16  1/26/2017  837.81  838.00  827.01  832.15  2,973,900  800.744141\n",
       "17  1/27/2017  834.71  841.95  820.44  823.31  2,965,800  808.129822\n",
       "18  1/30/2017  814.66  815.84  799.80  802.32  3,246,600  812.122559\n",
       "19  1/31/2017  796.86  801.25  790.52  796.79  2,160,600  808.005676"
      ]
     },
     "execution_count": 39,
     "metadata": {},
     "output_type": "execute_result"
    }
   ],
   "source": [
    "B"
   ]
  },
  {
   "cell_type": "code",
   "execution_count": 40,
   "id": "793b7afc",
   "metadata": {},
   "outputs": [
    {
     "data": {
      "image/png": "[encoded data removed]",
      "text/plain": [
       "<Figure size 432x288 with 1 Axes>"
      ]
     },
     "metadata": {
      "needs_background": "light"
     },
     "output_type": "display_data"
    }
   ],
   "source": [
    "# Visualising the results\n",
    "import matplotlib.pyplot as plt\n",
    "plt.plot(real_stock_price, color = 'red', label = 'Real Google Stock Price')\n",
    "plt.plot(L, color = 'blue', label = 'Predicted Google Stock Price')\n",
    "plt.title('Google Stock Price Prediction')\n",
    "plt.xlabel('Time')\n",
    "plt.ylabel('Google Stock Price')\n",
    "plt.legend()\n",
    "plt.show()"
   ]
  },
  {
   "cell_type": "code",
   "execution_count": null,
   "id": "ada084fc",
   "metadata": {},
   "outputs": [],
   "source": []
  }
 ],
 "metadata": {
  "kernelspec": {
   "display_name": "Python 3 (ipykernel)",
   "language": "python",
   "name": "python3"
  },
  "language_info": {
   "codemirror_mode": {
    "name": "ipython",
    "version": 3
   },
   "file_extension": ".py",
   "mimetype": "text/x-python",
   "name": "python",
   "nbconvert_exporter": "python",
   "pygments_lexer": "ipython3",
   "version": "3.8.12"
  }
 },
 "nbformat": 4,
 "nbformat_minor": 5
}
